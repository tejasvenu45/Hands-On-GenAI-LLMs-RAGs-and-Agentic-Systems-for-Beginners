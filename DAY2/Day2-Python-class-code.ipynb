{
  "nbformat": 4,
  "nbformat_minor": 0,
  "metadata": {
    "colab": {
      "provenance": []
    },
    "kernelspec": {
      "name": "python3",
      "display_name": "Python 3"
    },
    "language_info": {
      "name": "python"
    }
  },
  "cells": [
    {
      "cell_type": "markdown",
      "source": [
        "# Python- A Revision"
      ],
      "metadata": {
        "id": "sB-p226W3wDl"
      }
    },
    {
      "cell_type": "markdown",
      "source": [
        "## Functions"
      ],
      "metadata": {
        "id": "UdTJ2vU23zvw"
      }
    },
    {
      "cell_type": "markdown",
      "source": [
        "Can you help me write a function that takes a positive integer parameter n, to return the multiples of 4 till the nth multiple in a list?\n",
        "* if n = 3, return [4, 8, 12]"
      ],
      "metadata": {
        "id": "3TB-yExf4UEw"
      }
    },
    {
      "cell_type": "code",
      "source": [
        "# code here\n",
        "def generate_multiple_of_4(n):\n",
        "  l = []\n",
        "  for i in range(1, n+1):\n",
        "    l.append(4*i)\n",
        "\n",
        "  return l\n",
        "\n",
        "print(generate_multiple_of_4(3))"
      ],
      "metadata": {
        "id": "jambNZGl5JcI",
        "colab": {
          "base_uri": "https://localhost:8080/"
        },
        "outputId": "2bbfd53b-3975-477c-ee4a-1ff0ba5e5dd3"
      },
      "execution_count": 2,
      "outputs": [
        {
          "output_type": "stream",
          "name": "stdout",
          "text": [
            "[4, 8, 12]\n"
          ]
        }
      ]
    },
    {
      "cell_type": "markdown",
      "source": [
        "Can you help me write a function that takes a positive integer parameter x and integer parameter n, to return the nth power of x?\n",
        "* if x = 2, n = 5: return 32"
      ],
      "metadata": {
        "id": "gD9HgCbmB299"
      }
    },
    {
      "cell_type": "code",
      "source": [
        "# code here\n",
        "def power(x, n):\n",
        "  return x ** n\n",
        "\n",
        "print(power(2, 5))"
      ],
      "metadata": {
        "id": "QK0pz3PPCM1B",
        "colab": {
          "base_uri": "https://localhost:8080/"
        },
        "outputId": "559b1f13-90e2-4001-df0d-f45b8a1db97d"
      },
      "execution_count": 3,
      "outputs": [
        {
          "output_type": "stream",
          "name": "stdout",
          "text": [
            "32\n"
          ]
        }
      ]
    },
    {
      "cell_type": "markdown",
      "source": [
        "Can you help me write a function to count the number of vowels in the given string?"
      ],
      "metadata": {
        "id": "yNFVPdqK33pY"
      }
    },
    {
      "cell_type": "code",
      "execution_count": 4,
      "metadata": {
        "id": "pHp_FbQw3qda",
        "colab": {
          "base_uri": "https://localhost:8080/"
        },
        "outputId": "d1536512-c8a4-44dd-b39c-c893265e70e5"
      },
      "outputs": [
        {
          "output_type": "stream",
          "name": "stdout",
          "text": [
            "2\n"
          ]
        }
      ],
      "source": [
        "# code here\n",
        "def count_vowels(string):\n",
        "  vowels = ('a', 'e', 'i', 'o', 'u')\n",
        "  count = 0\n",
        "\n",
        "  for char in string:\n",
        "    if char in vowels:\n",
        "      count += 1\n",
        "\n",
        "  return count\n",
        "\n",
        "print(count_vowels(\"hello\"))"
      ]
    },
    {
      "cell_type": "markdown",
      "source": [
        "## Errors and Exceptions"
      ],
      "metadata": {
        "id": "sNSrqqKL0QW1"
      }
    },
    {
      "cell_type": "markdown",
      "source": [
        "Syntax Error"
      ],
      "metadata": {
        "id": "tuWC9sLb8WZe"
      }
    },
    {
      "cell_type": "code",
      "source": [
        "a = int(input())\n",
        "if a < 5\n",
        "  print(\"a is less than 5\")"
      ],
      "metadata": {
        "colab": {
          "base_uri": "https://localhost:8080/",
          "height": 109
        },
        "id": "Jj_S5kPC0UzC",
        "outputId": "259d706d-483d-4ee7-942f-d49128584904"
      },
      "execution_count": 1,
      "outputs": [
        {
          "output_type": "error",
          "ename": "SyntaxError",
          "evalue": "expected ':' (ipython-input-560118079.py, line 2)",
          "traceback": [
            "\u001b[0;36m  File \u001b[0;32m\"/tmp/ipython-input-560118079.py\"\u001b[0;36m, line \u001b[0;32m2\u001b[0m\n\u001b[0;31m    if a < 5\u001b[0m\n\u001b[0m            ^\u001b[0m\n\u001b[0;31mSyntaxError\u001b[0m\u001b[0;31m:\u001b[0m expected ':'\n"
          ]
        }
      ]
    },
    {
      "cell_type": "markdown",
      "source": [
        "Exception (Runtime Error)"
      ],
      "metadata": {
        "id": "FqnZSCQa8X_e"
      }
    },
    {
      "cell_type": "code",
      "source": [
        "def is_divisible(num1, num2):\n",
        "  if num1 % num2 == 0:\n",
        "    return True\n",
        "  return False\n",
        "\n",
        "is_divisible(7, 0)"
      ],
      "metadata": {
        "colab": {
          "base_uri": "https://localhost:8080/",
          "height": 306
        },
        "id": "0YHhqvAg0c1C",
        "outputId": "d5cc4b30-dcad-4352-9782-a3288542d54f"
      },
      "execution_count": 7,
      "outputs": [
        {
          "output_type": "error",
          "ename": "ZeroDivisionError",
          "evalue": "integer modulo by zero",
          "traceback": [
            "\u001b[0;31m---------------------------------------------------------------------------\u001b[0m",
            "\u001b[0;31mZeroDivisionError\u001b[0m                         Traceback (most recent call last)",
            "\u001b[0;32m/tmp/ipython-input-1966518779.py\u001b[0m in \u001b[0;36m<cell line: 0>\u001b[0;34m()\u001b[0m\n\u001b[1;32m      4\u001b[0m   \u001b[0;32mreturn\u001b[0m \u001b[0;32mFalse\u001b[0m\u001b[0;34m\u001b[0m\u001b[0;34m\u001b[0m\u001b[0m\n\u001b[1;32m      5\u001b[0m \u001b[0;34m\u001b[0m\u001b[0m\n\u001b[0;32m----> 6\u001b[0;31m \u001b[0mis_divisible\u001b[0m\u001b[0;34m(\u001b[0m\u001b[0;36m7\u001b[0m\u001b[0;34m,\u001b[0m \u001b[0;36m0\u001b[0m\u001b[0;34m)\u001b[0m\u001b[0;34m\u001b[0m\u001b[0;34m\u001b[0m\u001b[0m\n\u001b[0m",
            "\u001b[0;32m/tmp/ipython-input-1966518779.py\u001b[0m in \u001b[0;36mis_divisible\u001b[0;34m(num1, num2)\u001b[0m\n\u001b[1;32m      1\u001b[0m \u001b[0;32mdef\u001b[0m \u001b[0mis_divisible\u001b[0m\u001b[0;34m(\u001b[0m\u001b[0mnum1\u001b[0m\u001b[0;34m,\u001b[0m \u001b[0mnum2\u001b[0m\u001b[0;34m)\u001b[0m\u001b[0;34m:\u001b[0m\u001b[0;34m\u001b[0m\u001b[0;34m\u001b[0m\u001b[0m\n\u001b[0;32m----> 2\u001b[0;31m   \u001b[0;32mif\u001b[0m \u001b[0mnum1\u001b[0m \u001b[0;34m%\u001b[0m \u001b[0mnum2\u001b[0m \u001b[0;34m==\u001b[0m \u001b[0;36m0\u001b[0m\u001b[0;34m:\u001b[0m\u001b[0;34m\u001b[0m\u001b[0;34m\u001b[0m\u001b[0m\n\u001b[0m\u001b[1;32m      3\u001b[0m     \u001b[0;32mreturn\u001b[0m \u001b[0;32mTrue\u001b[0m\u001b[0;34m\u001b[0m\u001b[0;34m\u001b[0m\u001b[0m\n\u001b[1;32m      4\u001b[0m   \u001b[0;32mreturn\u001b[0m \u001b[0;32mFalse\u001b[0m\u001b[0;34m\u001b[0m\u001b[0;34m\u001b[0m\u001b[0m\n\u001b[1;32m      5\u001b[0m \u001b[0;34m\u001b[0m\u001b[0m\n",
            "\u001b[0;31mZeroDivisionError\u001b[0m: integer modulo by zero"
          ]
        }
      ]
    },
    {
      "cell_type": "markdown",
      "source": [
        "Handling exceptions"
      ],
      "metadata": {
        "id": "ErARAra-9FBG"
      }
    },
    {
      "cell_type": "code",
      "source": [
        "try:\n",
        "  print(\"Try block:\")\n",
        "  print(\"Starting execution of this cell.\")\n",
        "  print(\"Enter two integers:\")\n",
        "  x = int(input())\n",
        "  y = int(input())\n",
        "  print(\"First number is divisible by the second.\") if is_divisible(x, y) else print(\"First number is not divisible by the second.\")\n",
        "\n",
        "except ValueError: # when non-integers are inputted in the input statement in the try block\n",
        "  print()\n",
        "  print(\"Except ValueError block:\")\n",
        "  print(\"Input must be an integer.\")\n",
        "\n",
        "except ZeroDivisionError: # when division (or modulo) of zero is tried in the try block\n",
        "  print()\n",
        "  print(\"Except ZeroDivisionError block:\")\n",
        "  print(\"y is 0, hence a ZeroDivisionError exception is raised.\")\n",
        "\n",
        "finally:\n",
        "  print()\n",
        "  print(\"Finally block:\")\n",
        "  print(\"Execution of this cell is done.\")"
      ],
      "metadata": {
        "colab": {
          "base_uri": "https://localhost:8080/"
        },
        "id": "lpT6DZ5-6h1R",
        "outputId": "f577ba0d-34eb-4099-c8b4-73409b315759"
      },
      "execution_count": 9,
      "outputs": [
        {
          "output_type": "stream",
          "name": "stdout",
          "text": [
            "Try block:\n",
            "Starting execution of this cell.\n",
            "Enter two integers:\n",
            "2\n",
            "3\n",
            "First number is not divisible by the second.\n",
            "\n",
            "Finally block:\n",
            "Execution of this cell is done.\n"
          ]
        }
      ]
    }
  ]
}