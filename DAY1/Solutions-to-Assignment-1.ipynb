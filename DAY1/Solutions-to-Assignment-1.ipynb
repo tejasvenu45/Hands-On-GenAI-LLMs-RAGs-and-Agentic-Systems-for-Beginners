{
  "nbformat": 4,
  "nbformat_minor": 0,
  "metadata": {
    "colab": {
      "provenance": []
    },
    "kernelspec": {
      "name": "python3",
      "display_name": "Python 3"
    },
    "language_info": {
      "name": "python"
    }
  },
  "cells": [
    {
      "cell_type": "markdown",
      "source": [
        "# Python Coding Exercises for Practice\n",
        "Directions:\n",
        "* A question is followed by a code cell for you to code and run. You can upload this notebook to Colab on your Google account, or run the code uing your local Python interpreter. You can copy the code in the code cell and paste it into your text editor, and complete it before running it.\n",
        "* The code cell is followed by a **hint and pseudocode** to guide you if you have any doubts. Try to solve without the hint first.\n",
        "* For your benefit, don't use any generative AI coding tools to help you complete this. The hints given will help you solve the problem. If you are using Colab, navigate to Tools (on the menubar) -> Settings -> Editor -> (scroll down) disable the option called 'Show context-powered code completions'.\n",
        "* Some questions have extension questions, that have a little more complexity, you could try them if you are interested.\n",
        "* We will discuss solutions on Friday's class. Please complete this by Friday."
      ],
      "metadata": {
        "id": "fuGliqbpXoAl"
      }
    },
    {
      "cell_type": "markdown",
      "source": [
        "### Question 1\n",
        "Find the element with the **highest value** in the list of **positive integers** given.\n",
        "\n",
        "* input: lst1 = [2, 3, 4, 5, 3, 6, 2, 1]\n",
        "* expected answer: 6"
      ],
      "metadata": {
        "id": "hMRXSL-sWrUy"
      }
    },
    {
      "cell_type": "code",
      "execution_count": 22,
      "metadata": {
        "id": "RvQkkqp_Wdun",
        "colab": {
          "base_uri": "https://localhost:8080/"
        },
        "outputId": "6bc41569-3b07-4c94-b4ad-90284107ff03"
      },
      "outputs": [
        {
          "output_type": "stream",
          "name": "stdout",
          "text": [
            "6\n"
          ]
        }
      ],
      "source": [
        "lst1 = [2, 3, 4, 5, 3, 6, 2, 1]\n",
        "\n",
        "# code here:\n",
        "max_value = 0\n",
        "\n",
        "for number in lst1:\n",
        "  if number > max_value:\n",
        "    max_value = number\n",
        "\n",
        "# after your code, uncomment the below line and run it to see the max value you computed\n",
        "print(max_value)"
      ]
    },
    {
      "cell_type": "markdown",
      "source": [
        "#### Hint for Question 1"
      ],
      "metadata": {
        "id": "4o-qFNZgXFQv"
      }
    },
    {
      "cell_type": "markdown",
      "source": [
        "* Topics to use: loop, condition\n",
        "* Use a loop to see every element of the list, and check if the current element is the highest element seen so far.\n",
        "* Steps (algorithm/ pseudocode):\n",
        "    * declare a variable called max_value. Initialize max_value = 0.\n",
        "    * for every element in the list:\n",
        "        * if the element > max_value:\n",
        "            * max_value = element"
      ],
      "metadata": {
        "id": "rjAq0CqhXG4m"
      }
    },
    {
      "cell_type": "markdown",
      "source": [
        "#### Extension of Question 1:\n",
        "What if the list had negative integers also? How will you modify your code?"
      ],
      "metadata": {
        "id": "Jz8fhZzQdgwF"
      }
    },
    {
      "cell_type": "code",
      "source": [
        "# max_value needs to be initialized to negative infinity\n",
        "max_value = -float('inf')\n",
        "\n",
        "lst1_1 = [-12, -24, -6, 0]\n",
        "for number in lst1_1:\n",
        "  if number > max_value:\n",
        "    max_value = number\n",
        "\n",
        "print(max_value)"
      ],
      "metadata": {
        "colab": {
          "base_uri": "https://localhost:8080/"
        },
        "id": "KiZ3PPobuuY9",
        "outputId": "157fed7e-0fb5-48b4-d4bf-ebda55e3661f"
      },
      "execution_count": 23,
      "outputs": [
        {
          "output_type": "stream",
          "name": "stdout",
          "text": [
            "0\n"
          ]
        }
      ]
    },
    {
      "cell_type": "markdown",
      "source": [
        "### Question 2\n",
        "In the given list lst2, find the **twice of each element** and store this in a new list lst2_1.\n",
        "* input: lst2 = [5, 4.5, 34, 2, 8.908]\n",
        "* expected answer: lst2_1 = [10, 9.0, 68, 4, 17.816]"
      ],
      "metadata": {
        "id": "jQ5z_v5OXcwD"
      }
    },
    {
      "cell_type": "code",
      "source": [
        "lst2 = [5, 4.5, 34, 2, 8.908]\n",
        "lst2_1 = []\n",
        "\n",
        "# code here:\n",
        "for number in lst2:\n",
        "  lst2_1.append(2 * number)\n",
        "\n",
        "# after your code\n",
        "print(lst2_1)"
      ],
      "metadata": {
        "id": "klX1d1jxXGUv",
        "colab": {
          "base_uri": "https://localhost:8080/"
        },
        "outputId": "b25ef593-d2f8-404b-9b3d-3148e90f7e7f"
      },
      "execution_count": 24,
      "outputs": [
        {
          "output_type": "stream",
          "name": "stdout",
          "text": [
            "[10, 9.0, 68, 4, 17.816]\n"
          ]
        }
      ]
    },
    {
      "cell_type": "markdown",
      "source": [
        "#### Hint for Question 2:"
      ],
      "metadata": {
        "id": "1nsWWdOPc3C8"
      }
    },
    {
      "cell_type": "markdown",
      "source": [
        "* Topics: loop\n",
        "* **lst2_1.append(8)** adds the element 8 to the end of the list.\n",
        "* For every element in the list, compute element*2 and **append** this to the list lst2_1."
      ],
      "metadata": {
        "id": "ZYQ5iL33dMSG"
      }
    },
    {
      "cell_type": "markdown",
      "source": [
        "### Question 3:\n",
        "There are 3 students A, B and C. Their roll numbers are 7, 8 and 9 respectively. Create a dictionary to store the students' details with key as their roll numbers and value as their names.\n",
        "\n",
        "Consider the name to be a string. Consider the roll number to be an integer."
      ],
      "metadata": {
        "id": "gQZJTMi2ePXP"
      }
    },
    {
      "cell_type": "code",
      "source": [
        "# code here\n",
        "dct3 = {7: \"A\", 8: \"B\", 9: \"C\"}"
      ],
      "metadata": {
        "id": "Srq10E30cpJ9"
      },
      "execution_count": 25,
      "outputs": []
    },
    {
      "cell_type": "markdown",
      "source": [
        "#### Hint for Question 3:\n",
        "7, 8 and 9 must be mapped to \"A\", \"B\", \"C\" respectively using a dictionary. A dictionary has key: value pairs. Syntax: {key1: value1, key2: value2}"
      ],
      "metadata": {
        "id": "NQh0hnm1fX88"
      }
    },
    {
      "cell_type": "markdown",
      "source": [
        "### Question 4:\n",
        "A list of strings is given. Find the frequency of strings in the list.\n",
        "* input: [\"the\", \"most\", \"important\", \"thing\", \"is\", \"to\", \"try\", \"and\", \"inspire\", \"people\", \"so\", \"that\", \"they\", \"can\", \"be\", \"great\", \"in\", \"whatever\", \"they\", \"want\", \"to\", \"do\"]\n",
        "* expected answer (print it in this format):\n",
        "\n",
        "the 1\n",
        "\n",
        "most 1\n",
        "\n",
        "important 1\n",
        "\n",
        "thing 1\n",
        "\n",
        "is 1\n",
        "\n",
        "to 2\n",
        "\n",
        "try 1\n",
        "\n",
        "and 1\n",
        "\n",
        "inspire 1\n",
        "\n",
        "people 1\n",
        "\n",
        "so 1\n",
        "\n",
        "that 1\n",
        "\n",
        "they 2\n",
        "\n",
        "can 1\n",
        "\n",
        "be 1\n",
        "\n",
        "great 1\n",
        "\n",
        "in 1\n",
        "\n",
        "whatever 1\n",
        "\n",
        "want 1\n",
        "\n",
        "do 1"
      ],
      "metadata": {
        "id": "NCTjszr4f1mK"
      }
    },
    {
      "cell_type": "code",
      "source": [
        "lst4 = [\"the\", \"most\", \"important\", \"thing\", \"is\", \"to\", \"try\", \"and\", \"inspire\", \"people\", \"so\", \"that\", \"they\", \"can\", \"be\", \"great\", \"in\", \"whatever\", \"they\", \"want\", \"to\", \"do\"]\n",
        "\n",
        "# code here:\n",
        "dct4 = {}\n",
        "for word in lst4:\n",
        "  if word not in dct4:\n",
        "    dct4[word] = 1\n",
        "  else:\n",
        "    dct4[word] += 1 # or dct4[word] = dct4[word] + 1\n",
        "\n",
        "for key in dct4:\n",
        "  print(key, dct4[key])"
      ],
      "metadata": {
        "id": "6mpW2NR5frj3",
        "colab": {
          "base_uri": "https://localhost:8080/"
        },
        "outputId": "5e1efb16-1384-4106-c6a8-df2365ac5bb9"
      },
      "execution_count": 26,
      "outputs": [
        {
          "output_type": "stream",
          "name": "stdout",
          "text": [
            "the 1\n",
            "most 1\n",
            "important 1\n",
            "thing 1\n",
            "is 1\n",
            "to 2\n",
            "try 1\n",
            "and 1\n",
            "inspire 1\n",
            "people 1\n",
            "so 1\n",
            "that 1\n",
            "they 2\n",
            "can 1\n",
            "be 1\n",
            "great 1\n",
            "in 1\n",
            "whatever 1\n",
            "want 1\n",
            "do 1\n"
          ]
        }
      ]
    },
    {
      "cell_type": "markdown",
      "source": [
        "#### Hint for Question 4:\n",
        "* Topics to use: dictionary, loop, condition"
      ],
      "metadata": {
        "id": "YOLrahkthf7c"
      }
    },
    {
      "cell_type": "markdown",
      "source": [
        "#### Extension for Question 4:\n",
        "* If the input was a string, instead of a list of strings, i. e. **string** = \"the most important thing is to try and inspire people so that they can be great in whatever they want to do\", how do you find the frequency of the words? (use **string.split()**)"
      ],
      "metadata": {
        "id": "8TZPyJp2h0w5"
      }
    },
    {
      "cell_type": "code",
      "source": [
        "string = \"the most important thing is to try and inspire people so that they can be great in whatever they want to do\"\n",
        "# the code line required to convert string of words to list of words\n",
        "lst4 = string.split()\n",
        "\n",
        "dct4 = {}\n",
        "for word in lst4:\n",
        "  if word not in dct4:\n",
        "    dct4[word] = 1\n",
        "  else:\n",
        "    dct4[word] += 1 # or dct4[word] = dct4[word] + 1\n",
        "\n",
        "for key in dct4:\n",
        "  print(key, dct4[key])"
      ],
      "metadata": {
        "colab": {
          "base_uri": "https://localhost:8080/"
        },
        "id": "ToVWeaePvvxs",
        "outputId": "6b80ef99-d914-49df-dd4a-920a467f1b2a"
      },
      "execution_count": 27,
      "outputs": [
        {
          "output_type": "stream",
          "name": "stdout",
          "text": [
            "the 1\n",
            "most 1\n",
            "important 1\n",
            "thing 1\n",
            "is 1\n",
            "to 2\n",
            "try 1\n",
            "and 1\n",
            "inspire 1\n",
            "people 1\n",
            "so 1\n",
            "that 1\n",
            "they 2\n",
            "can 1\n",
            "be 1\n",
            "great 1\n",
            "in 1\n",
            "whatever 1\n",
            "want 1\n",
            "do 1\n"
          ]
        }
      ]
    },
    {
      "cell_type": "markdown",
      "source": [
        "### Question 5:\n",
        "You have the details of the stock of products in a shop in dct5 = {\"bags\": 100, \"clothes\": 300, \"phones\": 50}. You have to check if a customer can buy 120 bags, with the current stock of items.\n",
        "* expected answer: Cannot buy"
      ],
      "metadata": {
        "id": "ACCnvgksioo9"
      }
    },
    {
      "cell_type": "code",
      "source": [
        "dct5 = {\"bags\": 100, \"clothes\": 300, \"phones\": 50}\n",
        "\n",
        "# code here:\n",
        "if dct5[\"bags\"] >= 120:\n",
        "  print(\"Can buy\")\n",
        "else:\n",
        "  print(\"Cannot buy\")"
      ],
      "metadata": {
        "id": "MAVVFwwwhHPN",
        "colab": {
          "base_uri": "https://localhost:8080/"
        },
        "outputId": "41008298-b872-4895-b345-6ea2f548ed82"
      },
      "execution_count": 28,
      "outputs": [
        {
          "output_type": "stream",
          "name": "stdout",
          "text": [
            "Cannot buy\n"
          ]
        }
      ]
    },
    {
      "cell_type": "markdown",
      "source": [
        "#### Extension of Question 5:\n",
        "Check if the following purchases are possible. Assume they are executed in the order given.\n",
        "* initially: dct5 = {\"bags\": 100, \"clothes\": 300, \"phones\": 50}\n",
        "* check if 50 clothes can be sold, if yes, decrement stock of clothes by 50.\n",
        "* check if 89 bags can be sold. If yes decrement stock of bags.\n",
        "* check if 45 phones can be sold. If yes, decrement stock of phones.\n",
        "* new stock of 65 clothes has arrived. Increment stock of clothes.\n",
        "* check if 50 bags can be sold. If yes, decrement by 50. If no, print a message that says \"Stock unavailable.\"\n",
        "\n",
        "Code these in as less lines of code as you can (use loops and conditions, do not hard code).\n",
        "\n",
        "* you can make the purchase queries into a list of tuples. query_list = [(\"purchase\", \"clothes\", 50), (\"purchase\", \"bags\", 89), (\"purchase\", \"phones\", 45), (\"stock\", \"clothes\", 65), (\"purchase\", \"bags\", 50)]\n",
        "* Hint: for every tuple tup in query_list, if tup[0] == \"purchase\": check if there is enough items in dct5. If tup[0] == \"stock\": increment stock in dct5."
      ],
      "metadata": {
        "id": "GLcEPBFcjxVO"
      }
    },
    {
      "cell_type": "code",
      "source": [
        "dct5 = {\"bags\": 100, \"clothes\": 300, \"phones\": 50}\n",
        "query_list = [(\"purchase\", \"clothes\", 50), (\"purchase\", \"bags\", 89), (\"purchase\", \"phones\", 45), (\"stock\", \"clothes\", 65), (\"purchase\", \"bags\", 50)]\n",
        "\n",
        "# code here:\n",
        "for tup in query_list:\n",
        "  type_of_query = tup[0]\n",
        "  item_name = tup[1]\n",
        "  quantity = tup[2]\n",
        "  stock_available = dct5[item_name]\n",
        "  print(\"Stock before query processing:\", dct5)\n",
        "\n",
        "  if type_of_query == \"purchase\":\n",
        "    if stock_available >= quantity:\n",
        "      dct5[item_name] -= quantity\n",
        "      print(\"Successful purchase.\")\n",
        "    else:\n",
        "      print(\"Stock unavailable.\")\n",
        "\n",
        "  elif type_of_query == \"stock\":\n",
        "    dct5[item_name] += quantity\n",
        "    print(\"Stock updated.\")\n",
        "\n",
        "  print(\"Stock after query processing:\", dct5)\n",
        "  print()"
      ],
      "metadata": {
        "id": "pdNPFeIdokFx",
        "colab": {
          "base_uri": "https://localhost:8080/"
        },
        "outputId": "a1f4dd80-93a3-48c9-aa51-f482bba720c7"
      },
      "execution_count": 29,
      "outputs": [
        {
          "output_type": "stream",
          "name": "stdout",
          "text": [
            "Stock before query processing: {'bags': 100, 'clothes': 300, 'phones': 50}\n",
            "Successful purchase.\n",
            "Stock after query processing: {'bags': 100, 'clothes': 250, 'phones': 50}\n",
            "\n",
            "Stock before query processing: {'bags': 100, 'clothes': 250, 'phones': 50}\n",
            "Successful purchase.\n",
            "Stock after query processing: {'bags': 11, 'clothes': 250, 'phones': 50}\n",
            "\n",
            "Stock before query processing: {'bags': 11, 'clothes': 250, 'phones': 50}\n",
            "Successful purchase.\n",
            "Stock after query processing: {'bags': 11, 'clothes': 250, 'phones': 5}\n",
            "\n",
            "Stock before query processing: {'bags': 11, 'clothes': 250, 'phones': 5}\n",
            "Stock updated.\n",
            "Stock after query processing: {'bags': 11, 'clothes': 315, 'phones': 5}\n",
            "\n",
            "Stock before query processing: {'bags': 11, 'clothes': 315, 'phones': 5}\n",
            "Stock unavailable.\n",
            "Stock after query processing: {'bags': 11, 'clothes': 315, 'phones': 5}\n",
            "\n"
          ]
        }
      ]
    },
    {
      "cell_type": "markdown",
      "source": [
        "### Question 6:\n",
        "server_files_set is a set of html files stored in a server. requests_list is a list two types of requests: GET and POST.\n",
        "* When a GET request is encountered, you should check if the file mentioned exists in server_files_set. If present, print \"File exists, retrieved.\". Else print \"Error, file not found.\"\n",
        "* When a POST request is encountered, you should add the file mentioned in the request, into the server_files_set."
      ],
      "metadata": {
        "id": "QKDLxpISpQq9"
      }
    },
    {
      "cell_type": "code",
      "source": [
        "server_files_set = {\"file1.html\", \"file2.html\", \"file3.html\"}\n",
        "requests_list = [(\"GET\", \"file2.html\"), (\"GET\", \"file1.html\"), (\"POST\", \"file4.html\"), (\"GET\", \"file5.html\"), (\"POST\", \"file5.html\")]\n",
        "\n",
        "# code here\n",
        "for request in requests_list:\n",
        "  print(\"Before request:\", server_files_set, request)\n",
        "  type_of_request = request[0]\n",
        "  file_name = request[1]\n",
        "\n",
        "  if type_of_request == \"GET\":\n",
        "    if file_name in server_files_set:\n",
        "      print(\"File exists, retrieved.\")\n",
        "    else:\n",
        "      print(\"Error, file not found.\")\n",
        "\n",
        "  elif type_of_request == \"POST\":\n",
        "    server_files_set.add(file_name)\n",
        "    print(\"File added.\")\n",
        "\n",
        "  print(\"After request:\", server_files_set)\n",
        "  print()"
      ],
      "metadata": {
        "id": "6E9XgF8hlirH",
        "colab": {
          "base_uri": "https://localhost:8080/"
        },
        "outputId": "6279e6d5-a3d9-43a4-d1ab-5ed4af610a30"
      },
      "execution_count": 30,
      "outputs": [
        {
          "output_type": "stream",
          "name": "stdout",
          "text": [
            "Before request: {'file1.html', 'file2.html', 'file3.html'} ('GET', 'file2.html')\n",
            "File exists, retrieved.\n",
            "After request: {'file1.html', 'file2.html', 'file3.html'}\n",
            "\n",
            "Before request: {'file1.html', 'file2.html', 'file3.html'} ('GET', 'file1.html')\n",
            "File exists, retrieved.\n",
            "After request: {'file1.html', 'file2.html', 'file3.html'}\n",
            "\n",
            "Before request: {'file1.html', 'file2.html', 'file3.html'} ('POST', 'file4.html')\n",
            "File added.\n",
            "After request: {'file1.html', 'file4.html', 'file2.html', 'file3.html'}\n",
            "\n",
            "Before request: {'file1.html', 'file4.html', 'file2.html', 'file3.html'} ('GET', 'file5.html')\n",
            "Error, file not found.\n",
            "After request: {'file1.html', 'file4.html', 'file2.html', 'file3.html'}\n",
            "\n",
            "Before request: {'file1.html', 'file4.html', 'file2.html', 'file3.html'} ('POST', 'file5.html')\n",
            "File added.\n",
            "After request: {'file2.html', 'file3.html', 'file1.html', 'file4.html', 'file5.html'}\n",
            "\n"
          ]
        }
      ]
    },
    {
      "cell_type": "markdown",
      "source": [
        "#### Hint for Question 6:\n",
        "* Topics: set, loop, condition\n",
        "* To add element into set: use **server_files_set.add(\"filename.html\")**"
      ],
      "metadata": {
        "id": "R140TBc7sK10"
      }
    },
    {
      "cell_type": "markdown",
      "source": [
        "## PART 2:"
      ],
      "metadata": {
        "id": "cbz2Jf3O815K"
      }
    },
    {
      "cell_type": "markdown",
      "source": [
        "Complete the function given below:\n",
        "  \n",
        "  ->Operation is a string(\"Add\", \"Subtract\", \"Multiply\", \"Divide\") and a is the first argument and b is the second.\n",
        "\n",
        "  ->The function must return the result as per the operation.\n",
        "\n",
        "  -> Example of calling: calculator(\"Add\",1,2), calculator(\"Multiply\",1,2)"
      ],
      "metadata": {
        "id": "VexvJcyP80ai"
      }
    },
    {
      "cell_type": "code",
      "source": [
        "def calculator(operation, a, b):\n",
        "    global id\n",
        "    operation = operation.lower()\n",
        "    if operation == \"add\":\n",
        "        result = a + b\n",
        "    elif operation == \"subtract\":\n",
        "        result = a - b\n",
        "    elif operation == \"multiply\":\n",
        "        result = a * b\n",
        "    elif operation == \"divide\":\n",
        "        result = \"Error: Division by zero\" if b == 0 else a / b\n",
        "    else:\n",
        "        result = \"Invalid operation\"\n",
        "\n",
        "    return result"
      ],
      "metadata": {
        "id": "ffdo8jlA8z0w"
      },
      "execution_count": 31,
      "outputs": []
    },
    {
      "cell_type": "markdown",
      "source": [
        "Now, Lets get to the fun part :)\n",
        "\n",
        "-> Here I want you to use lists to store the value after each calculator operation(that it push the result of each calculation on to the list).\n",
        "\n",
        "-> Next implement 2 functions, that will display the history of operations and an undo function that will erase the last done operation.\n",
        "\n"
      ],
      "metadata": {
        "id": "vxiKX7Q09AcX"
      }
    },
    {
      "cell_type": "code",
      "source": [
        "#this cell have arbitarty calls to calculator function and store it into history\n",
        "\n",
        "history = []\n",
        "\n",
        "\n",
        "# history.append(calculator(\"Add\",1,2))\n",
        "# history.append(calculator(\"Multiply\",1,2))\n",
        "# history.append(calculator(\"Subtract\",1,2))\n",
        "# history.append(calculator(\"Divide\",1,2))\n"
      ],
      "metadata": {
        "id": "6o-njVJx89ye"
      },
      "execution_count": 32,
      "outputs": []
    },
    {
      "cell_type": "code",
      "source": [
        "history = []\n",
        "id =1\n",
        "def calculator(operation, a, b):\n",
        "    operation = operation.lower()\n",
        "    global id, history\n",
        "    if operation == \"add\":\n",
        "        result = a + b\n",
        "    elif operation == \"subtract\":\n",
        "        result = a - b\n",
        "    elif operation == \"multiply\":\n",
        "        result = a * b\n",
        "    elif operation == \"divide\":\n",
        "        result = \"Error: Division by zero\" if b == 0 else a / b\n",
        "    else:\n",
        "        result = \"Invalid operation\"\n",
        "\n",
        "\n",
        "    record = {\n",
        "        \"operation\": operation,\n",
        "        \"a\": a,\n",
        "        \"b\": b,\n",
        "        \"result\": result,\n",
        "        \"id\": id\n",
        "    }\n",
        "    id+=1\n",
        "    history.append(record)\n",
        "    return result\n",
        "\n",
        "\n",
        "def get_history():\n",
        "    \"\"\"Loop through dictionary entries and display history.\"\"\"\n",
        "    if not history:\n",
        "        print(\"No history yet!\")\n",
        "    else:\n",
        "        print(\"Calculation History:\")\n",
        "        for entry in history:\n",
        "            print(f\" {entry['operation']} of {entry['a']} and {entry['b']} = {entry['result']} id {entry['id']}\")\n",
        "\n",
        "\n",
        "def undo():\n",
        "    \"\"\"Undo last calculation.\"\"\"\n",
        "    if history:\n",
        "        removed = history.pop()\n",
        "        print(f\"Undid last operation: {removed['operation']} of {removed['a']} and {removed['b']}\")\n",
        "    else:\n",
        "        print(\"Nothing to undo!\")\n",
        "\n",
        "\n",
        "calculator(\"Add\", 1, 2)\n",
        "calculator(\"Multiply\", 3, 4)\n",
        "calculator(\"Subtract\", 10, 7)\n",
        "\n",
        "get_history()\n",
        "undo()\n",
        "get_history()"
      ],
      "metadata": {
        "id": "c9BKOM9T9Fa5",
        "colab": {
          "base_uri": "https://localhost:8080/"
        },
        "outputId": "10c81fe0-f52d-4d4c-af77-8023983d100b"
      },
      "execution_count": 33,
      "outputs": [
        {
          "output_type": "stream",
          "name": "stdout",
          "text": [
            "Calculation History:\n",
            " add of 1 and 2 = 3 id 1\n",
            " multiply of 3 and 4 = 12 id 2\n",
            " subtract of 10 and 7 = 3 id 3\n",
            "Undid last operation: subtract of 10 and 7\n",
            "Calculation History:\n",
            " add of 1 and 2 = 3 id 1\n",
            " multiply of 3 and 4 = 12 id 2\n"
          ]
        }
      ]
    },
    {
      "cell_type": "code",
      "source": [
        "#after you are done implementing the above codes\n",
        "calculator(\"Add\",1,2)\n",
        "get_history()\n",
        "calculator(\"Multiply\",4,2)\n",
        "get_history()\n",
        "undo()\n",
        "undo()\n",
        "get_history()"
      ],
      "metadata": {
        "id": "ZMmdE81W9IhR",
        "colab": {
          "base_uri": "https://localhost:8080/"
        },
        "outputId": "ca96dadc-05ee-43f8-eceb-86f724b5e1bb"
      },
      "execution_count": 34,
      "outputs": [
        {
          "output_type": "stream",
          "name": "stdout",
          "text": [
            "Calculation History:\n",
            " add of 1 and 2 = 3 id 1\n",
            " multiply of 3 and 4 = 12 id 2\n",
            " add of 1 and 2 = 3 id 4\n",
            "Calculation History:\n",
            " add of 1 and 2 = 3 id 1\n",
            " multiply of 3 and 4 = 12 id 2\n",
            " add of 1 and 2 = 3 id 4\n",
            " multiply of 4 and 2 = 8 id 5\n",
            "Undid last operation: multiply of 4 and 2\n",
            "Undid last operation: add of 1 and 2\n",
            "Calculation History:\n",
            " add of 1 and 2 = 3 id 1\n",
            " multiply of 3 and 4 = 12 id 2\n"
          ]
        }
      ]
    },
    {
      "cell_type": "markdown",
      "source": [
        "Once you have understood this exercise hope u are clear with basic loops, ifs and list data structure."
      ],
      "metadata": {
        "id": "NIS6mOjI9LFO"
      }
    },
    {
      "cell_type": "markdown",
      "source": [
        "Now let us work on builidng basic intution with dictionary.\n",
        "\n",
        "->I want you to append the conversion rate from INR to any 5 other currency of your choice (USD, EUROS or pounds)\n",
        "\n",
        "->Maybe like {\"USD\": 0.012 }"
      ],
      "metadata": {
        "id": "px3XF7Hs9N2t"
      }
    },
    {
      "cell_type": "code",
      "source": [
        "currency_convert = {}\n",
        "#  Just for example currency_convert[\"USD\"] = 0.012 Feel free to google different rates\n",
        "currency_convert = {\n",
        "    \"USD\": 0.012,\n",
        "    \"EUR\": 0.011,\n",
        "    \"JPY\": 1.69,\n",
        "    \"PAK\": 3.20\n",
        "}\n",
        "#complete this below function that takes currency and amount and return the amount in the new currency (example 88 rupees = 1 usd )\n",
        "def convert(currency, amount):\n",
        "    if currency in currency_convert:\n",
        "        return amount * currency_convert[currency]\n",
        "    else:\n",
        "        return f\"Error: Currency '{currency}' not found!\"\n",
        "\n",
        "\n",
        "#Now comes another part, I want you people to complete the below functions\n",
        "\n",
        "# Function to delete a currency rate from the dictionary\n",
        "def delete_rate(currency):\n",
        "    if currency in currency_convert:\n",
        "        removed = currency_convert.pop(currency)\n",
        "        print(f\"Deleted {currency} with rate {removed}\")\n",
        "    else:\n",
        "        print(f\"Currency '{currency}' does not exist!\")\n",
        "\n",
        "# Function to add a new currency rate\n",
        "def add_rate(currency, rate):\n",
        "    if currency in currency_convert:\n",
        "        print(f\"Currency '{currency}' already exists. Use update_rate() to change it.\")\n",
        "    else:\n",
        "        currency_convert[currency] = rate\n",
        "        print(f\"Added {currency} with rate {rate}\")\n",
        "\n",
        "# Function to update an existing currency rate\n",
        "def update_rate(currency, rate):\n",
        "    if currency in currency_convert:\n",
        "        currency_convert[currency] = rate\n",
        "        print(f\"Updated {currency} to new rate {rate}\")\n",
        "    else:\n",
        "        print(f\"Currency '{currency}' does not exist. Use add_rate() to add it.\")"
      ],
      "metadata": {
        "id": "1Hd_KNEy9QNP"
      },
      "execution_count": 35,
      "outputs": []
    },
    {
      "cell_type": "code",
      "source": [
        "#call all the functions and demonstrate your python dictionary skills :)\n",
        "print(convert(\"USD\", 1000))\n",
        "add_rate(\"GBP\", 0.009)\n",
        "update_rate(\"EUR\", 0.012)\n",
        "delete_rate(\"JPY\")\n",
        "print(currency_convert)"
      ],
      "metadata": {
        "id": "kFbSi08B9STv",
        "colab": {
          "base_uri": "https://localhost:8080/"
        },
        "outputId": "26d58d5e-19c3-49de-e119-c7df0b2bbd61"
      },
      "execution_count": 36,
      "outputs": [
        {
          "output_type": "stream",
          "name": "stdout",
          "text": [
            "12.0\n",
            "Added GBP with rate 0.009\n",
            "Updated EUR to new rate 0.012\n",
            "Deleted JPY with rate 1.69\n",
            "{'USD': 0.012, 'EUR': 0.012, 'PAK': 3.2, 'GBP': 0.009}\n"
          ]
        }
      ]
    }
  ]
}