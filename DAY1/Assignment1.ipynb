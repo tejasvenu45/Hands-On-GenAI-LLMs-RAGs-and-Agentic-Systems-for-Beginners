{
  "nbformat": 4,
  "nbformat_minor": 0,
  "metadata": {
    "colab": {
      "provenance": []
    },
    "kernelspec": {
      "name": "python3",
      "display_name": "Python 3"
    },
    "language_info": {
      "name": "python"
    }
  },
  "cells": [
    {
      "cell_type": "markdown",
      "source": [
        "# Python Coding Exercises for Practice\n",
        "Directions:\n",
        "* A question is followed by a code cell for you to code and run. You can upload this notebook to Colab on your Google account, or run the code uing your local Python interpreter. You can copy the code in the code cell and paste it into your text editor, and complete it before running it.\n",
        "* The code cell is followed by a **hint and pseudocode** to guide you if you have any doubts. Try to solve without the hint first.\n",
        "* For your benefit, don't use any generative AI coding tools to help you complete this. The hints given will help you solve the problem. If you are using Colab, navigate to Tools (on the menubar) -> Settings -> Editor -> (scroll down) disable the option called 'Show context-powered code completions'.\n",
        "* Some questions have extension questions, that have a little more complexity, you could try them if you are interested.\n",
        "* We will discuss solutions on Friday's class. Please complete this by Friday."
      ],
      "metadata": {
        "id": "fuGliqbpXoAl"
      }
    },
    {
      "cell_type": "markdown",
      "source": [
        "### Question 1\n",
        "Find the element with the **highest value** in the list of **positive integers** given.\n",
        "\n",
        "* input: lst1 = [2, 3, 4, 5, 3, 6, 2, 1]\n",
        "* expected answer: 6"
      ],
      "metadata": {
        "id": "hMRXSL-sWrUy"
      }
    },
    {
      "cell_type": "code",
      "execution_count": null,
      "metadata": {
        "id": "RvQkkqp_Wdun"
      },
      "outputs": [],
      "source": [
        "lst1 = [2, 3, 4, 5, 3, 6, 2, 1]\n",
        "\n",
        "# code here:\n",
        "\n",
        "# after your code, uncomment the below line and run it to see the max value you computed\n",
        "# print(max_value)"
      ]
    },
    {
      "cell_type": "markdown",
      "source": [
        "#### Hint for Question 1"
      ],
      "metadata": {
        "id": "4o-qFNZgXFQv"
      }
    },
    {
      "cell_type": "markdown",
      "source": [
        "* Topics to use: loop, condition\n",
        "* Use a loop to see every element of the list, and check if the current element is the highest element seen so far.\n",
        "* Steps (algorithm/ pseudocode):\n",
        "    * declare a variable called max_value. Initialize max_value = 0.\n",
        "    * for every element in the list:\n",
        "        * if the element > max_value:\n",
        "            * max_value = element"
      ],
      "metadata": {
        "id": "rjAq0CqhXG4m"
      }
    },
    {
      "cell_type": "markdown",
      "source": [
        "#### Extension of Question 1:\n",
        "What if the list had negative integers also? How will you modify your code?"
      ],
      "metadata": {
        "id": "Jz8fhZzQdgwF"
      }
    },
    {
      "cell_type": "markdown",
      "source": [
        "### Question 2\n",
        "In the given list lst2, find the **twice of each element** and store this in a new list lst2_1.\n",
        "* input: lst2 = [5, 4.5, 34, 2, 8.908]\n",
        "* expected answer: lst2_1 = [10, 9.0, 68, 4, 17.816]"
      ],
      "metadata": {
        "id": "jQ5z_v5OXcwD"
      }
    },
    {
      "cell_type": "code",
      "source": [
        "lst2 = [5, 4.5, 34, 2, 8.908]\n",
        "lst2_1 = []\n",
        "\n",
        "# code here:\n",
        "\n",
        "\n",
        "# after your code\n",
        "print(lst2_1)"
      ],
      "metadata": {
        "id": "klX1d1jxXGUv"
      },
      "execution_count": null,
      "outputs": []
    },
    {
      "cell_type": "markdown",
      "source": [
        "#### Hint for Question 2:"
      ],
      "metadata": {
        "id": "1nsWWdOPc3C8"
      }
    },
    {
      "cell_type": "markdown",
      "source": [
        "* Topics: loop\n",
        "* **lst2_1.append(8)** adds the element 8 to the end of the list.\n",
        "* For every element in the list, compute element*2 and **append** this to the list lst2_1."
      ],
      "metadata": {
        "id": "ZYQ5iL33dMSG"
      }
    },
    {
      "cell_type": "markdown",
      "source": [
        "### Question 3:\n",
        "There are 3 students A, B and C. Their roll numbers are 7, 8 and 9 respectively. Create a dictionary to store the students' details with key as their roll numbers and value as their names.\n",
        "\n",
        "Consider the name to be a string. Consider the roll number to be an integer."
      ],
      "metadata": {
        "id": "gQZJTMi2ePXP"
      }
    },
    {
      "cell_type": "code",
      "source": [
        "# code here\n"
      ],
      "metadata": {
        "id": "Srq10E30cpJ9"
      },
      "execution_count": null,
      "outputs": []
    },
    {
      "cell_type": "markdown",
      "source": [
        "#### Hint for Question 3:\n",
        "7, 8 and 9 must be mapped to \"A\", \"B\", \"C\" respectively using a dictionary. A dictionary has key: value pairs. Syntax: {key1: value1, key2: value2}"
      ],
      "metadata": {
        "id": "NQh0hnm1fX88"
      }
    },
    {
      "cell_type": "markdown",
      "source": [
        "### Question 4:\n",
        "A list of strings is given. Find the frequency of strings in the list.\n",
        "* input: [\"the\", \"most\", \"important\", \"thing\", \"is\", \"to\", \"try\", \"and\", \"inspire\", \"people\", \"so\", \"that\", \"they\", \"can\", \"be\", \"great\", \"in\", \"whatever\", \"they\", \"want\", \"to\", \"do\"]\n",
        "* expected answer (print it in this format):\n",
        "\n",
        "the 1\n",
        "\n",
        "most 1\n",
        "\n",
        "important 1\n",
        "\n",
        "thing 1\n",
        "\n",
        "is 1\n",
        "\n",
        "to 2\n",
        "\n",
        "try 1\n",
        "\n",
        "and 1\n",
        "\n",
        "inspire 1\n",
        "\n",
        "people 1\n",
        "\n",
        "so 1\n",
        "\n",
        "that 1\n",
        "\n",
        "they 2\n",
        "\n",
        "can 1\n",
        "\n",
        "be 1\n",
        "\n",
        "great 1\n",
        "\n",
        "in 1\n",
        "\n",
        "whatever 1\n",
        "\n",
        "want 1\n",
        "\n",
        "do 1"
      ],
      "metadata": {
        "id": "NCTjszr4f1mK"
      }
    },
    {
      "cell_type": "code",
      "source": [
        "lst4 = [\"the\", \"most\", \"important\", \"thing\", \"is\", \"to\", \"try\", \"and\", \"inspire\", \"people\", \"so\", \"that\", \"they\", \"can\", \"be\", \"great\", \"in\", \"whatever\", \"they\", \"want\", \"to\", \"do\"]\n",
        "\n",
        "# code here:\n"
      ],
      "metadata": {
        "id": "6mpW2NR5frj3"
      },
      "execution_count": null,
      "outputs": []
    },
    {
      "cell_type": "markdown",
      "source": [
        "#### Hint for Question 4:\n",
        "* Topics to use: dictionary, loop, condition"
      ],
      "metadata": {
        "id": "YOLrahkthf7c"
      }
    },
    {
      "cell_type": "markdown",
      "source": [
        "#### Extension for Question 4:\n",
        "* If the input was a string, instead of a list of strings, i. e. **string** = \"the most important thing is to try and inspire people so that they can be great in whatever they want to do\", how do you find the frequency of the words? (use **string.split()**)"
      ],
      "metadata": {
        "id": "8TZPyJp2h0w5"
      }
    },
    {
      "cell_type": "markdown",
      "source": [
        "### Question 5:\n",
        "You have the details of the stock of products in a shop in dct5 = {\"bags\": 100, \"clothes\": 300, \"phones\": 50}. You have to check if a customer can buy 120 bags, with the current stock of items.\n",
        "* expected answer: Cannot buy"
      ],
      "metadata": {
        "id": "ACCnvgksioo9"
      }
    },
    {
      "cell_type": "code",
      "source": [
        "dct5 = {\"bags\": 100, \"clothes\": 300, \"phones\": 50}\n",
        "\n",
        "# code here:\n"
      ],
      "metadata": {
        "id": "MAVVFwwwhHPN"
      },
      "execution_count": null,
      "outputs": []
    },
    {
      "cell_type": "markdown",
      "source": [
        "#### Extension of Question 5:\n",
        "Check if the following purchases are possible. Assume they are executed in the order given.\n",
        "* initially: dct5 = {\"bags\": 100, \"clothes\": 300, \"phones\": 50}\n",
        "* check if 50 clothes can be sold, if yes, decrement stock of clothes by 50.\n",
        "* check if 89 bags can be sold. If yes decrement stock of bags.\n",
        "* check if 45 phones can be sold. If yes, decrement stock of phones.\n",
        "* new stock of 65 clothes has arrived. Increment stock of clothes.\n",
        "* check if 50 bags can be sold. If yes, decrement by 50. If no, print a message that says \"Bags are out of stock.\"\n",
        "\n",
        "Code these in as less lines of code as you can (use loops and conditions, do not hard code).\n",
        "\n",
        "* you can make the purchase queries into a list of tuples. query_list = [(\"purchase\", \"clothes\", 50), (\"purchase\", \"bags\", 89), (\"purchase\", \"phones\", 45), (\"stock\", \"clothes\", 65), (\"purchase\", \"bags\", 50)]\n",
        "* Hint: for every tuple tup in query_list, if tup[0] == \"purchase\": check if there is enough items in dct5. If tup[0] == \"stock\": increment stock in dct5."
      ],
      "metadata": {
        "id": "GLcEPBFcjxVO"
      }
    },
    {
      "cell_type": "code",
      "source": [
        "dct5 = {\"bags\": 100, \"clothes\": 300, \"phones\": 50}\n",
        "query_list = [(\"purchase\", \"clothes\", 50), (\"purchase\", \"bags\", 89), (\"purchase\", \"phones\", 45), (\"stock\", \"clothes\", 65), (\"purchase\", \"bags\", 50)]\n",
        "\n",
        "# code here:\n"
      ],
      "metadata": {
        "id": "pdNPFeIdokFx"
      },
      "execution_count": null,
      "outputs": []
    },
    {
      "cell_type": "markdown",
      "source": [
        "### Question 6:\n",
        "server_files_set is a set of html files stored in a server. requests_list is a list two types of requests: GET and POST.\n",
        "* When a GET request is encountered, you should check if the file mentioned exists in server_files_set. If present, print \"File exists, retrieved.\". Else print \"Error, file not found.\"\n",
        "* When a POST request is encountered, you should add the file mentioned in the request, into the server_files_set."
      ],
      "metadata": {
        "id": "QKDLxpISpQq9"
      }
    },
    {
      "cell_type": "code",
      "source": [
        "server_files_set = {\"file1.html\", \"file2.html\", \"file3.html\"}\n",
        "requests_list = [(\"GET\", \"file2.html\"), (\"GET\", \"file1.html\"), (\"POST\", \"file4.html\"), (\"GET\", \"file5.html\"), (\"POST\", \"file5.html\")]\n",
        "\n",
        "# code here\n"
      ],
      "metadata": {
        "id": "6E9XgF8hlirH"
      },
      "execution_count": null,
      "outputs": []
    },
    {
      "cell_type": "markdown",
      "source": [
        "#### Hint for Question 6:\n",
        "* Topics: set, loop, condition\n",
        "* To add element into set: use **server_files_set.add(\"filename.html\")**"
      ],
      "metadata": {
        "id": "R140TBc7sK10"
      }
    },
    {
      "cell_type": "markdown",
      "source": [
        "PART 2:"
      ],
      "metadata": {
        "id": "cbz2Jf3O815K"
      }
    },
    {
      "cell_type": "markdown",
      "source": [
        "Complete the function given below:\n",
        "  \n",
        "  ->Operation is a string(\"Add\", \"Subtract\", \"Multiply\", \"Divide\") and a is the first argument and b is the second.\n",
        "\n",
        "  ->The function must return the result as per the operation.\n",
        "\n",
        "  -> Example of calling: calculator(\"Add\",1,2), calculator(\"Multiply\",1,2)"
      ],
      "metadata": {
        "id": "VexvJcyP80ai"
      }
    },
    {
      "cell_type": "code",
      "source": [
        "def calculator(operation, a, b):\n",
        "    #code here\n",
        "    pass"
      ],
      "metadata": {
        "id": "ffdo8jlA8z0w"
      },
      "execution_count": null,
      "outputs": []
    },
    {
      "cell_type": "markdown",
      "source": [
        "Now, Lets get to the fun part :)\n",
        "\n",
        "-> Here I want you to use lists to store the value after each calculator operation(that it push the result of each calculation on to the list).\n",
        "\n",
        "-> Next implement 2 functions, that will display the history of operations and an undo function that will erase the last done operation.\n",
        "\n"
      ],
      "metadata": {
        "id": "vxiKX7Q09AcX"
      }
    },
    {
      "cell_type": "code",
      "source": [
        "#this cell have arbitarty calls to calculator function and store it into history\n",
        "\n",
        "history = []\n",
        "\n",
        "\n",
        "# history.append(calculator(\"Add\",1,2))\n",
        "# history.append(calculator(\"Multiply\",1,2))\n",
        "# history.append(calculator(\"Subtract\",1,2))\n",
        "# history.append(calculator(\"Divide\",1,2))\n",
        "#"
      ],
      "metadata": {
        "id": "6o-njVJx89ye"
      },
      "execution_count": null,
      "outputs": []
    },
    {
      "cell_type": "code",
      "source": [
        "history = []\n",
        "\n",
        "def get_history():\n",
        "    # Print all previous calculations.\n",
        "    # loop through history and print\n",
        "    pass\n",
        "\n",
        "def undo():\n",
        "    #Undo last calculation (remove from history).\n",
        "    # check if history is not empty, then pop last item\n",
        "    pass"
      ],
      "metadata": {
        "id": "c9BKOM9T9Fa5"
      },
      "execution_count": null,
      "outputs": []
    },
    {
      "cell_type": "code",
      "source": [
        "#after you are done implementing the above codes\n",
        "calculator(\"Add\",1,2)\n",
        "get_history()\n",
        "calculator(\"Multiply\",4,2)\n",
        "get_history()\n",
        "undo()\n",
        "undo()\n",
        "get_history()"
      ],
      "metadata": {
        "id": "ZMmdE81W9IhR"
      },
      "execution_count": null,
      "outputs": []
    },
    {
      "cell_type": "markdown",
      "source": [
        "Once you have understood this exercise hope u are clear with basic loops, ifs and list data structure."
      ],
      "metadata": {
        "id": "NIS6mOjI9LFO"
      }
    },
    {
      "cell_type": "markdown",
      "source": [
        "Now let us work on builidng basic intution with dictionary.\n",
        "\n",
        "->I want you to append the conversion rate from INR to any 5 other currency of your choice (USD, EUROS or pounds)\n",
        "\n",
        "->Maybe like {\"USD\": 0.012 }"
      ],
      "metadata": {
        "id": "px3XF7Hs9N2t"
      }
    },
    {
      "cell_type": "code",
      "source": [
        "currency_convert = {}\n",
        "#  Just for example currency_convert[\"USD\"] = 0.012 Feel free to google different rates\n",
        "\n",
        "#complete this below function that takes currency and amount and return the amount in the new currency (example 88 rupees = 1 usd )\n",
        "def convert(currency, amount):\n",
        "    # Check if currency exists in dictionary\n",
        "    # If yes, return amount * rate\n",
        "    # Else, return some error message\n",
        "    pass\n",
        "\n",
        "\n",
        "#Now comes another part, I want you people to complete the below functions\n",
        "\n",
        "# Function to delete a currency rate from the dictionary\n",
        "def delete_rate(currency):\n",
        "    # Remove a currency from the dictionary\n",
        "    # Use 'del' or pop()\n",
        "    pass\n",
        "\n",
        "# Function to add a new currency rate\n",
        "def add_rate(currency, rate):\n",
        "    # Add a new currency conversion rate.\n",
        "    # Assign dictionary[currency] = rate\n",
        "    pass\n",
        "\n",
        "# Function to update an existing currency rate\n",
        "def update_rate(currency, rate):\n",
        "    # Update an existing currency rate.\n",
        "    # Check if currency exists first, then update\n",
        "    pass"
      ],
      "metadata": {
        "id": "1Hd_KNEy9QNP"
      },
      "execution_count": null,
      "outputs": []
    },
    {
      "cell_type": "code",
      "source": [
        "#call all the functions and demonstrate your python dictionary skills :)"
      ],
      "metadata": {
        "id": "kFbSi08B9STv"
      },
      "execution_count": null,
      "outputs": []
    }
  ]
}