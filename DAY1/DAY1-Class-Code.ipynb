{
  "nbformat": 4,
  "nbformat_minor": 0,
  "metadata": {
    "colab": {
      "provenance": []
    },
    "kernelspec": {
      "name": "python3",
      "display_name": "Python 3"
    },
    "language_info": {
      "name": "python"
    }
  },
  "cells": [
    {
      "cell_type": "markdown",
      "source": [
        "# Python- A Revision"
      ],
      "metadata": {
        "id": "_6Ay9vDAV-Df"
      }
    },
    {
      "cell_type": "markdown",
      "source": [
        "## Demo"
      ],
      "metadata": {
        "id": "P5ouJC4WgIFZ"
      }
    },
    {
      "cell_type": "markdown",
      "source": [
        "### Input and Output\n",
        "* input(): takes input from console, returns a string.\n",
        "* print(): prints to the console."
      ],
      "metadata": {
        "id": "t6FTuAKURZaH"
      }
    },
    {
      "cell_type": "code",
      "execution_count": null,
      "metadata": {
        "colab": {
          "base_uri": "https://localhost:8080/"
        },
        "id": "8DBqJXv-RU9z",
        "outputId": "b8a29578-ef03-4f75-a849-e25473b0b861"
      },
      "outputs": [
        {
          "output_type": "stream",
          "name": "stdout",
          "text": [
            "What's your favourite sport?\n",
            "Tennis\n",
            "\n",
            "Your favourite sport is Tennis.\n"
          ]
        }
      ],
      "source": [
        "print(\"What's your favourite sport?\")\n",
        "sport = input()\n",
        "\n",
        "print()\n",
        "print(f\"Your favourite sport is {sport}.\") # formatted output, curly braces enclose variable names"
      ]
    },
    {
      "cell_type": "markdown",
      "source": [
        "### Literals and Variables\n",
        "Examples for literals: 6, \"6\", \"blue\", 3.14, True\n",
        "\n",
        "Examples for variables:\n",
        "* colour is the variable in: colour = \"blue\"\n",
        "* distance is the variable in: distance = 6"
      ],
      "metadata": {
        "id": "Rc-FQepSTdrq"
      }
    },
    {
      "cell_type": "markdown",
      "source": [
        "### In-built Data Structures"
      ],
      "metadata": {
        "id": "oSr-XBdbV4jN"
      }
    },
    {
      "cell_type": "markdown",
      "source": [
        "#### List"
      ],
      "metadata": {
        "id": "q7LllxLNWIAS"
      }
    },
    {
      "cell_type": "code",
      "source": [
        "# lists can have duplicate elements, and elements of heterogenous datatypes\n",
        "lst = [1, 2, 3, 3, 4, 5, \"hello\"]\n",
        "\n",
        "# lists are ordered, are subscriptable\n",
        "print(f\"0th element: {lst[0]}\")\n",
        "\n",
        "# lists are mutable/ can be modified\n",
        "print(f\"Popping element at index 4: {lst.pop(4)}, List after popping element: {lst}\")\n",
        "lst[0] = 0\n",
        "print(\"After changing 0th element:\", lst)"
      ],
      "metadata": {
        "colab": {
          "base_uri": "https://localhost:8080/"
        },
        "id": "EmsBCPTYR1al",
        "outputId": "a8297e07-a90d-4dda-e73d-6e620dfe21da"
      },
      "execution_count": null,
      "outputs": [
        {
          "output_type": "stream",
          "name": "stdout",
          "text": [
            "0th element: 1\n",
            "Popping element at index 4: 4, List after popping element: [1, 2, 3, 3, 5, 'hello']\n",
            "After changing 0th element: [0, 2, 3, 3, 5, 'hello']\n"
          ]
        }
      ]
    },
    {
      "cell_type": "markdown",
      "source": [
        "Lists are Ordered, Subscriptable using index, Mutable, and can have Duplicate elements."
      ],
      "metadata": {
        "id": "aPRxTpb4XBVR"
      }
    },
    {
      "cell_type": "markdown",
      "source": [
        "#### Tuple"
      ],
      "metadata": {
        "id": "nPu7WJj8WKU2"
      }
    },
    {
      "cell_type": "code",
      "source": [
        "# tuples can have duplicate elements, and elements of heterogenous datatypes\n",
        "tup = (1, 2, 3, 3, 4, 5, \"hello\")\n",
        "\n",
        "# tuples are ordered, are subscriptable\n",
        "print(f\"0th element: {tup[0]}\")\n",
        "\n",
        "# tuples are immutable/ cannot be modified\n",
        "# tup[0] = 1 # error"
      ],
      "metadata": {
        "colab": {
          "base_uri": "https://localhost:8080/"
        },
        "id": "SAcueCL8VNpf",
        "outputId": "306c28dd-efd7-4a66-c669-c62b7962cd19"
      },
      "execution_count": null,
      "outputs": [
        {
          "output_type": "stream",
          "name": "stdout",
          "text": [
            "0th element: 1\n"
          ]
        }
      ]
    },
    {
      "cell_type": "markdown",
      "source": [
        "Tuples are Ordered, Subscriptable using index, Immutable, and can have Duplicate elements."
      ],
      "metadata": {
        "id": "BZaulYULXMvV"
      }
    },
    {
      "cell_type": "markdown",
      "source": [
        "#### Dictionary"
      ],
      "metadata": {
        "id": "iLFPwUvpX75y"
      }
    },
    {
      "cell_type": "code",
      "source": [
        "# dictionary contains key-value pairs, each key-value pair is called an item\n",
        "# keys must be unique literals\n",
        "dct = {\"key1\": \"Student1\", \"key2\": \"Student2\", 6: \"Student3\", True: \"hello\"}\n",
        "print(\"Dictionary:\", dct)\n",
        "\n",
        "# items in a dictionary are unordered, are subscriptable using key\n",
        "# dct[0] # error, since key of 0 is not present\n",
        "print(\"Value with key key1:\", dct[\"key1\"])\n",
        "\n",
        "# dictionaries are mutable\n",
        "dct[True] = \"hi\"\n",
        "print(\"Dictionary after changing value for key True:\", dct)"
      ],
      "metadata": {
        "colab": {
          "base_uri": "https://localhost:8080/"
        },
        "id": "arwdettWWbya",
        "outputId": "a5cf3f89-181b-487c-95fe-99ac20589814"
      },
      "execution_count": null,
      "outputs": [
        {
          "output_type": "stream",
          "name": "stdout",
          "text": [
            "Dictionary: {'key1': 'Student1', 'key2': 'Student2', 6: 'Student3', True: 'hello'}\n",
            "Value with key key1: Student1\n",
            "Dictionary after changing value for key True: {'key1': 'Student1', 'key2': 'Student2', 6: 'Student3', True: 'hi'}\n"
          ]
        }
      ]
    },
    {
      "cell_type": "markdown",
      "source": [
        "Dictionaries are Unordered, Subscriptable using key, Mutable, can only have Unique Keys."
      ],
      "metadata": {
        "id": "dunXRcVnadBP"
      }
    },
    {
      "cell_type": "markdown",
      "source": [
        "#### Set"
      ],
      "metadata": {
        "id": "A7kXQ7SXasPF"
      }
    },
    {
      "cell_type": "code",
      "source": [
        "# sets contain unique elements\n",
        "st = {1, 2, 3, 4, 5}\n",
        "\n",
        "# sets are not subscriptable\n",
        "# st[0] # error\n",
        "\n",
        "# sets are mutable\n",
        "st.add(0)\n",
        "print(\"Set after adding element 0:\", st)\n",
        "st.remove(5)\n",
        "print(\"Set after removing element 5:\", st)"
      ],
      "metadata": {
        "colab": {
          "base_uri": "https://localhost:8080/"
        },
        "id": "fznAMmg_Ys3V",
        "outputId": "56da4f59-2584-46bf-f067-dd7e5279433e"
      },
      "execution_count": null,
      "outputs": [
        {
          "output_type": "stream",
          "name": "stdout",
          "text": [
            "Set after adding element 0: {0, 1, 2, 3, 4, 5}\n",
            "Set after removing element 5: {0, 1, 2, 3, 4}\n"
          ]
        }
      ]
    },
    {
      "cell_type": "markdown",
      "source": [
        "Sets are Unordered, Unsubscriptable, Mutable, can only have Unique Elements."
      ],
      "metadata": {
        "id": "8Lu7WUJCbds5"
      }
    },
    {
      "cell_type": "markdown",
      "source": [
        "### Conditions"
      ],
      "metadata": {
        "id": "kSZo_ylRdF7Z"
      }
    },
    {
      "cell_type": "markdown",
      "source": [
        "Can you help me write a code snippet to do the following:\n",
        "* create a set with 3 elements\n",
        "* if the integer 7 is in the set: print \"7 found\", else print \"7 not found\""
      ],
      "metadata": {
        "id": "H3MhLwyfePMk"
      }
    },
    {
      "cell_type": "code",
      "source": [
        "# code here\n",
        "set1 = {1, 2, 3}\n",
        "if 7 in set1:\n",
        "  print(\"7 found\")\n",
        "else:\n",
        "  print(\"7 not found\")"
      ],
      "metadata": {
        "id": "m-sJrImFbEbr",
        "colab": {
          "base_uri": "https://localhost:8080/"
        },
        "outputId": "43de85f8-e841-45f6-d708-0fa0fbfee353"
      },
      "execution_count": 11,
      "outputs": [
        {
          "output_type": "stream",
          "name": "stdout",
          "text": [
            "7 not found\n"
          ]
        }
      ]
    },
    {
      "cell_type": "markdown",
      "source": [
        "### Loops"
      ],
      "metadata": {
        "id": "b3szRcbBev4V"
      }
    },
    {
      "cell_type": "markdown",
      "source": [
        "Can you help me write a code snippet to do the following:\n",
        "* create a dictionary with integer keys and integer values\n",
        "* create a variable named key_count to count the number of keys\n",
        "* create a variable named value_sum to find the sum of values\n",
        "* use a loop to iterate through the dictionary"
      ],
      "metadata": {
        "id": "cRNDXVxxezFs"
      }
    },
    {
      "cell_type": "code",
      "source": [
        "# code here\n",
        "dict1 = {1: 36, 2: 89, 3: 12}\n",
        "key_count = 0\n",
        "value_sum = 0\n",
        "\n",
        "for key, value in dict1.items():\n",
        "  key_count += 1\n",
        "  value_sum += value\n",
        "  print(key_count, value_sum)\n",
        "\n",
        "print()\n",
        "print(key_count, value_sum)"
      ],
      "metadata": {
        "id": "rzow3vxietLl",
        "colab": {
          "base_uri": "https://localhost:8080/"
        },
        "outputId": "2334d1c9-44d4-464d-8a13-6675d6b3f721"
      },
      "execution_count": 14,
      "outputs": [
        {
          "output_type": "stream",
          "name": "stdout",
          "text": [
            "1 36\n",
            "2 125\n",
            "3 137\n",
            "\n",
            "3 137\n"
          ]
        }
      ]
    },
    {
      "cell_type": "markdown",
      "source": [
        "### Functions"
      ],
      "metadata": {
        "id": "96cUr9b_jI1v"
      }
    },
    {
      "cell_type": "markdown",
      "source": [
        "Can you help write a function that takes 2 integers num1 and num2 as parameters, and returns True if num1 is divisible by num2?"
      ],
      "metadata": {
        "id": "LM6i0HxljSAL"
      }
    },
    {
      "cell_type": "code",
      "source": [
        "# code here\n",
        "def is_divisible(num1, num2):\n",
        "  if num1 % num2 == 0:\n",
        "    return True\n",
        "  else:\n",
        "    return False\n",
        "\n",
        "is_divisible(4, 2)"
      ],
      "metadata": {
        "id": "JMMj6JxZjQar",
        "colab": {
          "base_uri": "https://localhost:8080/"
        },
        "outputId": "95b6fb4f-e113-4ee9-c1a5-8c56d6ed9b10"
      },
      "execution_count": 3,
      "outputs": [
        {
          "output_type": "execute_result",
          "data": {
            "text/plain": [
              "True"
            ]
          },
          "metadata": {},
          "execution_count": 3
        }
      ]
    },
    {
      "cell_type": "markdown",
      "source": [
        "# -----------------------------------------------------------------------------------"
      ],
      "metadata": {
        "id": "HzRFWd7IjNUF"
      }
    },
    {
      "cell_type": "markdown",
      "source": [
        "## Exercises for you!"
      ],
      "metadata": {
        "id": "nrPqFTzGfmmA"
      }
    },
    {
      "cell_type": "markdown",
      "source": [
        "### Intermediate 1"
      ],
      "metadata": {
        "id": "383-HssRzbgM"
      }
    },
    {
      "cell_type": "markdown",
      "source": [
        "Sample input strings:\n",
        "*   i like apples and oranges but apples more\n",
        "*   a large language model represents word or sub word as a token which is converted to a token embedding\n",
        "\n"
      ],
      "metadata": {
        "id": "Bzuha6eMzhaO"
      }
    },
    {
      "cell_type": "markdown",
      "source": [
        "#### Initial program"
      ],
      "metadata": {
        "id": "jy0CH3zugP-2"
      }
    },
    {
      "cell_type": "markdown",
      "source": [
        "##### Question:"
      ],
      "metadata": {
        "id": "dE4Uw9ddhv0d"
      }
    },
    {
      "cell_type": "markdown",
      "source": [
        "Can you code this:\n",
        "* find the probability of occurrence of words- store this in a dictionary {word: probability of occurrence}\n",
        "* print (predict) the token with the highest probability of occurrence"
      ],
      "metadata": {
        "id": "uyKz0z2VxHVS"
      }
    },
    {
      "cell_type": "code",
      "source": [
        "lst = [1, 2]\n",
        "lst[0]\n",
        "\n",
        "for i in range(len(lst)):\n",
        "  print(i)"
      ],
      "metadata": {
        "colab": {
          "base_uri": "https://localhost:8080/"
        },
        "id": "Ud0bGkzIdLSZ",
        "outputId": "2b43b311-9947-4bc5-9dd6-649fb9847d46"
      },
      "execution_count": 6,
      "outputs": [
        {
          "output_type": "stream",
          "name": "stdout",
          "text": [
            "0\n",
            "1\n"
          ]
        }
      ]
    },
    {
      "cell_type": "code",
      "source": [
        "string = input()\n",
        "words = string.split() # splits string based on whitespace\n",
        "\n",
        "no_of_words = len(words)\n",
        "\n",
        "word_counter = {}\n",
        "# to count frequency of each word\n",
        "# for word in words:\n",
        "for i in range(len(words)):\n",
        "  word = words[i]\n",
        "  if word not in word_counter:\n",
        "    word_counter[word] = 1\n",
        "  else:\n",
        "    word_counter[word] += 1\n",
        "print(word_counter)"
      ],
      "metadata": {
        "colab": {
          "base_uri": "https://localhost:8080/"
        },
        "id": "z1mU9WeIdl-v",
        "outputId": "fcbc4b93-107d-4241-b481-08567863fe3f"
      },
      "execution_count": 7,
      "outputs": [
        {
          "output_type": "stream",
          "name": "stdout",
          "text": [
            "there is a book on a table\n",
            "{'there': 1, 'is': 1, 'a': 2, 'book': 1, 'on': 1, 'table': 1}\n"
          ]
        }
      ]
    },
    {
      "cell_type": "code",
      "source": [
        "# find probability of each word\n",
        "for word in word_counter:\n",
        "  word_counter[word] = word_counter[word]/no_of_words\n",
        "print(word_counter)"
      ],
      "metadata": {
        "colab": {
          "base_uri": "https://localhost:8080/"
        },
        "id": "bKunqLEkZekz",
        "outputId": "20d8c38a-1966-4d01-cfcc-2ce549da100b"
      },
      "execution_count": 9,
      "outputs": [
        {
          "output_type": "stream",
          "name": "stdout",
          "text": [
            "{'there': 0.02040816326530612, 'is': 0.02040816326530612, 'a': 0.04081632653061224, 'book': 0.02040816326530612, 'on': 0.02040816326530612, 'table': 0.02040816326530612}\n"
          ]
        }
      ]
    },
    {
      "cell_type": "code",
      "source": [
        "# we find the word with the highest prob\n",
        "word_with_highest_prob = \"\"\n",
        "highest_prob = 0\n",
        "for key, value in word_counter.items():\n",
        "  if value > highest_prob:\n",
        "    highest_prob = value\n",
        "    word_with_highest_prob = key\n",
        "\n",
        "print(word_with_highest_prob)\n",
        "print(highest_prob)"
      ],
      "metadata": {
        "colab": {
          "base_uri": "https://localhost:8080/"
        },
        "id": "Z_utN5uNd2eF",
        "outputId": "fc39e8df-346f-4556-9bbf-7e900ecf9c2e"
      },
      "execution_count": 10,
      "outputs": [
        {
          "output_type": "stream",
          "name": "stdout",
          "text": [
            "a\n",
            "0.04081632653061224\n"
          ]
        }
      ]
    },
    {
      "cell_type": "markdown",
      "source": [
        "##### Solution:"
      ],
      "metadata": {
        "id": "MbeemNWPhzTs"
      }
    },
    {
      "cell_type": "code",
      "source": [
        "# Take a string as input\n",
        "print(\"Enter a string:\")\n",
        "input_string = input()\n",
        "\n",
        "words_in_input_string = input_string.split()\n",
        "word_count = len(words_in_input_string)\n",
        "\n",
        "# Find probability of occurrence of each word in the input string\n",
        "word_dict = {}\n",
        "\n",
        "for word in words_in_input_string:\n",
        "  if word not in word_dict:\n",
        "    word_dict[word] = 0\n",
        "  word_dict[word] += 1\n",
        "\n",
        "for key in word_dict:\n",
        "  word_dict[key] /= word_count\n",
        "\n",
        "print(\"\\nInput string:\", input_string)\n",
        "print(\"Number of words in the string:\", word_count)\n",
        "print(\"\\nWord: Word Probability dictionary:\\n\", word_dict)\n",
        "\n",
        "# Predict the token with the highest probability\n",
        "max_value = 0\n",
        "token_with_max_value = \"\"\n",
        "for key, value in word_dict.items():\n",
        "  if value > max_value:\n",
        "    max_value = value\n",
        "    token_with_max_value = key\n",
        "\n",
        "print(\"\\nPredicted token based on probability of occurrence of tokens:\")\n",
        "print(token_with_max_value)"
      ],
      "metadata": {
        "colab": {
          "base_uri": "https://localhost:8080/"
        },
        "id": "xreF6PPDxBrg",
        "outputId": "7fbffd21-fe5c-44b0-990a-9f59a839b4bd"
      },
      "execution_count": null,
      "outputs": [
        {
          "output_type": "stream",
          "name": "stdout",
          "text": [
            "Enter a string:\n",
            "a large language model represents word or sub word as a token which is converted to a token embedding\n",
            "\n",
            "Input string: a large language model represents word or sub word as a token which is converted to a token embedding\n",
            "Number of words in the string: 19\n",
            "\n",
            "Word: Word Probability dictionary:\n",
            " {'a': 0.15789473684210525, 'large': 0.05263157894736842, 'language': 0.05263157894736842, 'model': 0.05263157894736842, 'represents': 0.05263157894736842, 'word': 0.10526315789473684, 'or': 0.05263157894736842, 'sub': 0.05263157894736842, 'as': 0.05263157894736842, 'token': 0.10526315789473684, 'which': 0.05263157894736842, 'is': 0.05263157894736842, 'converted': 0.05263157894736842, 'to': 0.05263157894736842, 'embedding': 0.05263157894736842}\n",
            "\n",
            "Predicted token based on probability of occurrence of tokens:\n",
            "a\n"
          ]
        }
      ]
    },
    {
      "cell_type": "markdown",
      "source": [
        "#### Extension of program"
      ],
      "metadata": {
        "id": "-SIIsUOagS-q"
      }
    },
    {
      "cell_type": "markdown",
      "source": [
        "##### Question:"
      ],
      "metadata": {
        "id": "2W8fTH97i9fA"
      }
    },
    {
      "cell_type": "markdown",
      "source": [
        "Extension of program:\n",
        "* find the probability of occurrence of a word given its previous word- store this in a dictionary {(previous word, word): probability of occurrence}\n",
        "* print (predict) the token that comes after a word in the string"
      ],
      "metadata": {
        "id": "t7jhzCY6jbGe"
      }
    },
    {
      "cell_type": "code",
      "source": [],
      "metadata": {
        "id": "evq6K0fZUl80"
      },
      "execution_count": null,
      "outputs": []
    }
  ]
}